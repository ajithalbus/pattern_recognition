{
 "cells": [
  {
   "cell_type": "code",
   "execution_count": 1,
   "metadata": {},
   "outputs": [
    {
     "name": "stdout",
     "output_type": "stream",
     "text": [
      "Populating the interactive namespace from numpy and matplotlib\n"
     ]
    }
   ],
   "source": [
    "import math\n",
    "import os\n",
    "import numpy as np\n",
    "import matplotlib.pyplot as plt\n",
    "import librosa.display as ds\n",
    "import itertools\n",
    "from sklearn.decomposition import PCA as pca\n",
    "from multiprocessing import Pool\n",
    "from matplotlib import cm\n",
    "\n",
    "%pylab inline"
   ]
  },
  {
   "cell_type": "code",
   "execution_count": 2,
   "metadata": {
    "collapsed": true
   },
   "outputs": [],
   "source": [
    "def plot_confusion_matrix(cm, classes,\n",
    "                          normalize=False,\n",
    "                          title='Confusion matrix',\n",
    "                          cmap=plt.cm.Blues):\n",
    "    #credits - sklearn\n",
    "    \"\"\"\n",
    "    This function prints and plots the confusion matrix.\n",
    "    Normalization can be applied by setting `normalize=True`.\n",
    "    \"\"\"\n",
    "    if normalize:\n",
    "        cm = cm.astype('float') / cm.sum(axis=1)[:, np.newaxis]\n",
    "        print(\"Normalized confusion matrix\")\n",
    "    else:\n",
    "        print('Confusion matrix, without normalization')\n",
    "\n",
    "    print(cm)\n",
    "\n",
    "    plt.imshow(cm, interpolation='nearest', cmap=cmap)\n",
    "    plt.title(title)\n",
    "    plt.colorbar()\n",
    "    tick_marks = np.arange(len(classes))\n",
    "    plt.xticks(tick_marks, classes, rotation=45)\n",
    "    plt.yticks(tick_marks, classes)\n",
    "\n",
    "    #fmt = '.2f' if normalize else 'd'\n",
    "    thresh = cm.max() / 2.\n",
    "    for i, j in itertools.product(range(cm.shape[0]), range(cm.shape[1])):\n",
    "        plt.text(j, i, cm[i, j],\n",
    "                 horizontalalignment=\"center\",\n",
    "                 color=\"white\" if cm[i, j] > thresh else \"black\")\n",
    "\n",
    "    plt.tight_layout()\n",
    "    plt.ylabel('True label')\n",
    "    plt.xlabel('Predicted label')\n",
    "\n",
    "\n"
   ]
  },
  {
   "cell_type": "code",
   "execution_count": 10,
   "metadata": {
    "collapsed": true
   },
   "outputs": [],
   "source": [
    "#templates=[np.loadtxt('./data_set/digit_data/'+i+'/1.txt') for i in ['zero','one','two','three','four','five','six','seven','eight','nine']]\n",
    "\n",
    "#test=[np.loadtxt('./data_set/digit_data/four/'+str(i)+'.txt') for i in range(1,161)]\n",
    "\n",
    "listing=os.listdir('./data_set/digit_recognition/data/isolated/1/')\n",
    "ones=np.array([np.loadtxt('./data_set/digit_recognition/data/isolated/1/'+infile,skiprows=1) for infile in listing])\n",
    "\n",
    "listing=os.listdir('./data_set/digit_recognition/data/isolated/4/')\n",
    "fours=np.array([np.loadtxt('./data_set/digit_recognition/data/isolated/4/'+infile,skiprows=1) for infile in listing])\n",
    "\n",
    "listing=os.listdir('./data_set/digit_recognition/data/isolated/6/')\n",
    "sixes=np.array([np.loadtxt('./data_set/digit_recognition/data/isolated/6/'+infile,skiprows=1) for infile in listing])\n",
    "\n",
    "N=len(ones)\n",
    "ones_train=ones[:int(math.ceil(N*8/10))]\n",
    "ones_test=ones[int(math.ceil(N*8/10)):]\n",
    "\n",
    "N=len(fours)\n",
    "fours_train=fours[:int(math.ceil(N*8/10))]\n",
    "fours_test=fours[int(math.ceil(N*8/10)):]\n",
    "\n",
    "N=len(sixes)\n",
    "sixes_train=sixes[:int(math.ceil(N*8/10))]\n",
    "sixes_test=sixes[int(math.ceil(N*8/10)):]\n"
   ]
  },
  {
   "cell_type": "code",
   "execution_count": null,
   "metadata": {
    "collapsed": true
   },
   "outputs": [],
   "source": []
  },
  {
   "cell_type": "markdown",
   "metadata": {},
   "source": [
    "x=1\n",
    "for i in test:\n",
    "    subplot(1,1,1)\n",
    "    ds.waveplot(i)\n",
    "    \n",
    "    x+=1\n",
    "#subplot(1,6,x)\n",
    "#ds.waveplot(two)\n"
   ]
  },
  {
   "cell_type": "code",
   "execution_count": 4,
   "metadata": {
    "collapsed": true
   },
   "outputs": [],
   "source": [
    "def d(x,y):\n",
    "    return np.linalg.norm(x-y)\n",
    " \n",
    "def dtw(X):\n",
    "    A,B=X\n",
    "    M=A.shape[0]\n",
    "    N=B.shape[0]\n",
    "    cost=np.empty((M,N))\n",
    "    cost[0,0] = d(A[0], B[0])\n",
    "    for i in range(1,M):\n",
    "        cost[i,0]=cost[i-1,0]+d(A[i],B[0])\n",
    " \n",
    "    for j in range(1,N):\n",
    "        cost[0,j]=cost[0,j-1]+d(A[0],B[j])\n",
    " \n",
    "    for i in range(1,M):\n",
    "        for j in range(1,N):\n",
    "            cost[i,j] = np.min(np.array([cost[i-1,j],cost[i,j-1],cost[i-1,j-1]]))+d(A[i],B[j])\n",
    " \n",
    "    return cost[-1][-1]"
   ]
  },
  {
   "cell_type": "code",
   "execution_count": 5,
   "metadata": {
    "collapsed": true
   },
   "outputs": [],
   "source": [
    "def bestr(samples,n=4):\n",
    "    dist=np.zeros(samples.shape[0])\n",
    "    \n",
    "    p=Pool(4)\n",
    "    for i in range(samples.shape[0]):\n",
    "        x=p.map(dtw,[(samples[i],samples[j]) for j in range(i+1,samples.shape[0])])\n",
    "        dist[i]+=sum(x)\n",
    "        c=0\n",
    "        for j in range(i+1,samples.shape[0]):\n",
    "            dist[j]+=x[c]\n",
    "            c+=1\n",
    "    return np.argsort(dist)[:n]"
   ]
  },
  {
   "cell_type": "code",
   "execution_count": 6,
   "metadata": {
    "collapsed": true
   },
   "outputs": [],
   "source": [
    "\n",
    "best_ones=bestr(ones_train,n=4)\n",
    "best_fours=bestr(fours_train,n=4)\n",
    "best_sixes=bestr(sixes_train,n=4)\n"
   ]
  },
  {
   "cell_type": "code",
   "execution_count": 11,
   "metadata": {
    "collapsed": true
   },
   "outputs": [],
   "source": [
    "ones_train=[ones_train[i] for i in best_ones]\n",
    "fours_train=[fours_train[i] for i in best_ones]\n",
    "sixes_train=[sixes_train[i] for i in best_ones]\n"
   ]
  },
  {
   "cell_type": "code",
   "execution_count": null,
   "metadata": {
    "collapsed": true
   },
   "outputs": [],
   "source": []
  },
  {
   "cell_type": "code",
   "execution_count": 1,
   "metadata": {},
   "outputs": [
    {
     "ename": "NameError",
     "evalue": "name 'np' is not defined",
     "output_type": "error",
     "traceback": [
      "\u001b[0;31m---------------------------------------------------------------------------\u001b[0m",
      "\u001b[0;31mNameError\u001b[0m                                 Traceback (most recent call last)",
      "\u001b[0;32m<ipython-input-1-dadb35c39425>\u001b[0m in \u001b[0;36m<module>\u001b[0;34m()\u001b[0m\n\u001b[1;32m      2\u001b[0m \u001b[0mlable\u001b[0m\u001b[0;34m=\u001b[0m\u001b[0;34m[\u001b[0m\u001b[0;34m'one'\u001b[0m\u001b[0;34m,\u001b[0m\u001b[0;34m'four'\u001b[0m\u001b[0;34m,\u001b[0m\u001b[0;34m'six'\u001b[0m\u001b[0;34m]\u001b[0m\u001b[0;34m\u001b[0m\u001b[0m\n\u001b[1;32m      3\u001b[0m \u001b[0;34m\u001b[0m\u001b[0m\n\u001b[0;32m----> 4\u001b[0;31m \u001b[0mconf\u001b[0m\u001b[0;34m=\u001b[0m\u001b[0mnp\u001b[0m\u001b[0;34m.\u001b[0m\u001b[0mzeros\u001b[0m\u001b[0;34m(\u001b[0m\u001b[0;34m(\u001b[0m\u001b[0;36m3\u001b[0m\u001b[0;34m,\u001b[0m\u001b[0;36m3\u001b[0m\u001b[0;34m)\u001b[0m\u001b[0;34m)\u001b[0m\u001b[0;34m\u001b[0m\u001b[0m\n\u001b[0m\u001b[1;32m      5\u001b[0m \u001b[0mp\u001b[0m\u001b[0;34m=\u001b[0m\u001b[0mPool\u001b[0m\u001b[0;34m(\u001b[0m\u001b[0;36m4\u001b[0m\u001b[0;34m)\u001b[0m\u001b[0;34m\u001b[0m\u001b[0m\n\u001b[1;32m      6\u001b[0m \u001b[0mcount\u001b[0m\u001b[0;34m=\u001b[0m\u001b[0;36m0\u001b[0m\u001b[0;34m\u001b[0m\u001b[0m\n",
      "\u001b[0;31mNameError\u001b[0m: name 'np' is not defined"
     ]
    }
   ],
   "source": [
    "#testing\n",
    "lable=['one','four','six']\n",
    "\n",
    "conf=np.zeros((3,3))\n",
    "p=Pool(4)\n",
    "count=0\n",
    "tp=0\n",
    "print 'testing one'\n",
    "for sample in ones_test:\n",
    "    count+=1\n",
    "    x=p.map(dtw,[(sample,i) for i in ones_train])\n",
    "    y=p.map(dtw,[(sample,i) for i in fours_train])\n",
    "    z=p.map(dtw,[(sample,i) for i in sixes_train])\n",
    "    \n",
    "    \n",
    "    x.sort()\n",
    "    y.sort()\n",
    "    z.sort()\n",
    "    \n",
    "    alls=np.vstack((x[:4],y[:4],z[:4]))\n",
    "    \n",
    "    alls=alls.flatten()\n",
    "    alls.sort()\n",
    "    alls=alls[:4]\n",
    "    vote=[0,0,0]\n",
    "    #print alls\n",
    "    for t in alls:\n",
    "        if t in x:\n",
    "            vote[0]+=1\n",
    "            \n",
    "        if t in y:\n",
    "            vote[1]+=1\n",
    "        if t in z:\n",
    "            vote[2]+=1\n",
    "    print lable[np.argmax(vote)]   \n",
    "    if np.argmax(vote)==0:\n",
    "        tp+=1\n",
    "        conf[0,0]+=1\n",
    "    elif np.argmax(vote)==1:\n",
    "        conf[0,1]+=1\n",
    "    else:\n",
    "        conf[0,2]+=1\n",
    "\n",
    "print 'testing four'\n",
    "for sample in fours_test:\n",
    "    count+=1\n",
    "    x=p.map(dtw,[(sample,i) for i in ones_train])\n",
    "    y=p.map(dtw,[(sample,i) for i in fours_train])\n",
    "    z=p.map(dtw,[(sample,i) for i in sixes_train])\n",
    "    \n",
    "    \n",
    "    x.sort()\n",
    "    y.sort()\n",
    "    z.sort()\n",
    "    \n",
    "    alls=np.vstack((x[:4],y[:4],z[:4]))\n",
    "    \n",
    "    alls=alls.flatten()\n",
    "    alls.sort()\n",
    "    alls=alls[:4]\n",
    "    vote=[0,0,0]\n",
    "    #print alls\n",
    "    for t in alls:\n",
    "        if t in x:\n",
    "            vote[0]+=1\n",
    "        if t in y:\n",
    "            vote[1]+=1\n",
    "        if t in z:\n",
    "            vote[2]+=1\n",
    "    print lable[np.argmax(vote)]\n",
    "    if np.argmax(vote)==1:\n",
    "        tp+=1\n",
    "        conf[1,1]+=1\n",
    "    elif np.argmax(vote)==0:\n",
    "        conf[1,0]+=1\n",
    "    else:\n",
    "        conf[1,2]+=1\n",
    "\n",
    "\n",
    "print 'testing six'\n",
    "for sample in sixes_test:\n",
    "    count+=1\n",
    "    x=p.map(dtw,[(sample,i) for i in ones_train])\n",
    "    y=p.map(dtw,[(sample,i) for i in fours_train])\n",
    "    z=p.map(dtw,[(sample,i) for i in sixes_train])\n",
    "    \n",
    "    \n",
    "    x.sort()\n",
    "    y.sort()\n",
    "    z.sort()\n",
    "    \n",
    "    alls=np.vstack((x[:4],y[:4],z[:4]))\n",
    "    \n",
    "    alls=alls.flatten()\n",
    "    alls.sort()\n",
    "    alls=alls[:4]\n",
    "    vote=[0,0,0]\n",
    "    #print alls\n",
    "    for t in alls:\n",
    "        if t in x:\n",
    "            vote[0]+=1\n",
    "        if t in y:\n",
    "            vote[1]+=1\n",
    "        if t in z:\n",
    "            vote[2]+=1\n",
    "    print lable[np.argmax(vote)]\n",
    "    if np.argmax(vote)==2:\n",
    "        tp+=1\n",
    "        conf[2,2]+=1\n",
    "    elif np.argmax(vote)==1:\n",
    "        conf[2,1]+=1\n",
    "    else:\n",
    "        conf[2,0]+=1\n",
    "\n",
    "print (tp*1.0)/count\n",
    "\n",
    "    \n",
    "    "
   ]
  },
  {
   "cell_type": "code",
   "execution_count": 9,
   "metadata": {},
   "outputs": [
    {
     "name": "stdout",
     "output_type": "stream",
     "text": [
      "[[ 12.   0.   0.]\n",
      " [  3.   9.   0.]\n",
      " [  0.   0.  12.]]\n",
      "Confusion matrix, without normalization\n",
      "[[ 12.   0.   0.]\n",
      " [  3.   9.   0.]\n",
      " [  0.   0.  12.]]\n"
     ]
    },
    {
     "data": {
      "image/png": "[encoded data removed]",
      "text/plain": [
       "<matplotlib.figure.Figure at 0x7fe29c151810>"
      ]
     },
     "metadata": {},
     "output_type": "display_data"
    }
   ],
   "source": [
    "print conf\n",
    "plot_confusion_matrix(conf,['one','four','six'],normalize=False)\n",
    "plt.savefig('./results/two.eps',format='eps')\n",
    "plt.show()\n"
   ]
  },
  {
   "cell_type": "markdown",
   "metadata": {},
   "source": [
    "cost=np.array(cost)\n",
    "imshow(cost, origin='lower', cmap=cm.gray, interpolation='nearest')\n",
    "plot(path[0], path[1], 'w')\n",
    "xlim((-0.5, cost.shape[0]-0.5))\n",
    "ylim((-0.5, cost.shape[1]-0.5))"
   ]
  },
  {
   "cell_type": "code",
   "execution_count": null,
   "metadata": {
    "collapsed": true
   },
   "outputs": [],
   "source": []
  }
 ],
 "metadata": {
  "kernelspec": {
   "display_name": "Python 2",
   "language": "python",
   "name": "python2"
  },
  "language_info": {
   "codemirror_mode": {
    "name": "ipython",
    "version": 2
   },
   "file_extension": ".py",
   "mimetype": "text/x-python",
   "name": "python",
   "nbconvert_exporter": "python",
   "pygments_lexer": "ipython2",
   "version": "2.7.13"
  }
 },
 "nbformat": 4,
 "nbformat_minor": 2
}
