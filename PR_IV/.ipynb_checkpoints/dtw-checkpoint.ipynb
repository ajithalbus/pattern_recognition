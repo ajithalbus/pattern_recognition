{
 "cells": [
  {
   "cell_type": "code",
   "execution_count": 1,
   "metadata": {},
   "outputs": [
    {
     "name": "stdout",
     "output_type": "stream",
     "text": [
      "Populating the interactive namespace from numpy and matplotlib\n"
     ]
    }
   ],
   "source": [
    "import math\n",
    "import time\n",
    "import os\n",
    "import numpy as np\n",
    "import matplotlib.pyplot as plt\n",
    "import librosa.display as ds\n",
    "import itertools\n",
    "from sklearn.decomposition import PCA as pca\n",
    "from multiprocessing import Pool\n",
    "%pylab inline\n"
   ]
  },
  {
   "cell_type": "code",
   "execution_count": 2,
   "metadata": {
    "collapsed": true
   },
   "outputs": [],
   "source": [
    "#templates=[np.loadtxt('./data_set/digit_data/'+i+'/1.txt') for i in ['zero','one','two','three','four','five','six','seven','eight','nine']]\n",
    "\n",
    "#test=[np.loadtxt('./data_set/digit_data/four/'+str(i)+'.txt') for i in range(1,161)]\n",
    "\n",
    "listing=os.listdir('./data_set/digit_recognition/data/isolated/1/')\n",
    "ones=np.array([np.loadtxt('./data_set/digit_recognition/data/isolated/1/'+infile,skiprows=1) for infile in listing])\n",
    "\n",
    "listing=os.listdir('./data_set/digit_recognition/data/isolated/4/')\n",
    "fours=np.array([np.loadtxt('./data_set/digit_recognition/data/isolated/4/'+infile,skiprows=1) for infile in listing])\n",
    "\n",
    "listing=os.listdir('./data_set/digit_recognition/data/isolated/6/')\n",
    "sixes=np.array([np.loadtxt('./data_set/digit_recognition/data/isolated/6/'+infile,skiprows=1) for infile in listing])\n",
    "\n",
    "N=len(ones)\n",
    "ones_train=ones[:int(math.ceil(N*8/10))]\n",
    "ones_test=ones[int(math.ceil(N*8/10)):]\n",
    "\n",
    "N=len(fours)\n",
    "fours_train=fours[:int(math.ceil(N*8/10))]\n",
    "fours_test=fours[int(math.ceil(N*8/10)):]\n",
    "\n",
    "N=len(sixes)\n",
    "sixes_train=sixes[:int(math.ceil(N*8/10))]\n",
    "sixes_test=sixes[int(math.ceil(N*8/10)):]\n"
   ]
  },
  {
   "cell_type": "code",
   "execution_count": null,
   "metadata": {
    "collapsed": true
   },
   "outputs": [],
   "source": []
  },
  {
   "cell_type": "markdown",
   "metadata": {},
   "source": [
    "x=1\n",
    "for i in test:\n",
    "    subplot(1,1,1)\n",
    "    ds.waveplot(i)\n",
    "    \n",
    "    x+=1\n",
    "#subplot(1,6,x)\n",
    "#ds.waveplot(two)\n"
   ]
  },
  {
   "cell_type": "code",
   "execution_count": null,
   "metadata": {
    "collapsed": true
   },
   "outputs": [],
   "source": [
    "def d(x,y):\n",
    "    return np.linalg.norm(x-y)\n",
    " \n",
    "def dtw(X):\n",
    "    A,B=X\n",
    "    M=A.shape[0]\n",
    "    N=B.shape[0]\n",
    "    cost=np.empty((M,N))\n",
    "    cost[0,0] = d(A[0], B[0])\n",
    "    for i in range(1,M):\n",
    "        cost[i,0]=cost[i-1,0]+d(A[i],B[0])\n",
    " \n",
    "    for j in range(1,N):\n",
    "        cost[0,j]=cost[0,j-1]+d(A[0],B[j])\n",
    " \n",
    "    for i in range(1,M):\n",
    "        for j in range(1,N):\n",
    "            cost[i,j] = np.min(np.array([cost[i-1,j],cost[i,j-1],cost[i-1,j-1]]))+d(A[i],B[j])\n",
    " \n",
    "    return cost[-1][-1]"
   ]
  },
  {
   "cell_type": "code",
   "execution_count": null,
   "metadata": {},
   "outputs": [
    {
     "name": "stdout",
     "output_type": "stream",
     "text": [
      "testing one\n",
      "one\n",
      "running time -  0.0156844742298 s\n",
      "one\n",
      "running time -  0.0105435838699 s\n",
      "one\n",
      "running time -  0.0140610740185 s\n"
     ]
    }
   ],
   "source": [
    "#testing\n",
    "lable=['one','four','six']\n",
    "\n",
    "\n",
    "p=Pool(4)\n",
    "count=0\n",
    "tp=0\n",
    "\n",
    "print 'testing one'\n",
    "for sample in ones_test:\n",
    "    count+=1\n",
    "    \n",
    "    clk=time.time()\n",
    "    #print clk\n",
    "    x=p.map(dtw,[(sample,i) for i in ones_train])\n",
    "    y=p.map(dtw,[(sample,i) for i in fours_train])\n",
    "    z=p.map(dtw,[(sample,i) for i in sixes_train])\n",
    "    \n",
    "    \n",
    "    x.sort()\n",
    "    y.sort()\n",
    "    z.sort()\n",
    "    \n",
    "    alls=np.vstack((x[:3],y[:3],z[:3]))\n",
    "    \n",
    "    alls=alls.flatten()\n",
    "    alls.sort()\n",
    "    alls=alls[:3]\n",
    "    vote=[0,0,0]\n",
    "    #print alls\n",
    "    for t in alls:\n",
    "        if t in x:\n",
    "            vote[0]+=1\n",
    "        if t in y:\n",
    "            vote[1]+=1\n",
    "        if t in z:\n",
    "            vote[2]+=1\n",
    "    print lable[np.argmax(vote)]\n",
    "    if np.argmax(vote)==0:\n",
    "        tp+=1\n",
    "    print 'running time - ',(time.time()-clk),'s'\n",
    "\n",
    "\n",
    "print 'testing four'\n",
    "for sample in fours_test:\n",
    "    count+=1\n",
    "    x=p.map(dtw,[(sample,i) for i in ones_train])\n",
    "    y=p.map(dtw,[(sample,i) for i in fours_train])\n",
    "    z=p.map(dtw,[(sample,i) for i in sixes_train])\n",
    "    \n",
    "    \n",
    "    x.sort()\n",
    "    y.sort()\n",
    "    z.sort()\n",
    "    \n",
    "    alls=np.vstack((x[:3],y[:3],z[:3]))\n",
    "    \n",
    "    alls=alls.flatten()\n",
    "    alls.sort()\n",
    "    alls=alls[:3]\n",
    "    vote=[0,0,0]\n",
    "    #print alls\n",
    "    for t in alls:\n",
    "        if t in x:\n",
    "            vote[0]+=1\n",
    "        if t in y:\n",
    "            vote[1]+=1\n",
    "        if t in z:\n",
    "            vote[2]+=1\n",
    "    print lable[np.argmax(vote)]\n",
    "    if np.argmax(vote)==1:\n",
    "        tp+=1\n",
    "\n",
    "print 'testing six'\n",
    "for sample in sixes_test:\n",
    "    count+=1\n",
    "    x=p.map(dtw,[(sample,i) for i in ones_train])\n",
    "    y=p.map(dtw,[(sample,i) for i in fours_train])\n",
    "    z=p.map(dtw,[(sample,i) for i in sixes_train])\n",
    "    \n",
    "    \n",
    "    x.sort()\n",
    "    y.sort()\n",
    "    z.sort()\n",
    "    \n",
    "    alls=np.vstack((x[:3],y[:3],z[:3]))\n",
    "    \n",
    "    alls=alls.flatten()\n",
    "    alls.sort()\n",
    "    alls=alls[:3]\n",
    "    vote=[0,0,0]\n",
    "    #print alls\n",
    "    for t in alls:\n",
    "        if t in x:\n",
    "            vote[0]+=1\n",
    "        if t in y:\n",
    "            vote[1]+=1\n",
    "        if t in z:\n",
    "            vote[2]+=1\n",
    "    print lable[np.argmax(vote)]\n",
    "    if np.argmax(vote)==2:\n",
    "        tp+=1\n",
    "\n",
    "print tp*1.0/count\n",
    "    \n",
    "    "
   ]
  },
  {
   "cell_type": "code",
   "execution_count": null,
   "metadata": {
    "collapsed": true
   },
   "outputs": [],
   "source": [
    "\n"
   ]
  },
  {
   "cell_type": "markdown",
   "metadata": {},
   "source": [
    "cost=np.array(cost)\n",
    "imshow(cost, origin='lower', cmap=cm.gray, interpolation='nearest')\n",
    "plot(path[0], path[1], 'w')\n",
    "xlim((-0.5, cost.shape[0]-0.5))\n",
    "ylim((-0.5, cost.shape[1]-0.5))"
   ]
  },
  {
   "cell_type": "code",
   "execution_count": null,
   "metadata": {
    "collapsed": true
   },
   "outputs": [],
   "source": []
  },
  {
   "cell_type": "code",
   "execution_count": null,
   "metadata": {
    "collapsed": true
   },
   "outputs": [],
   "source": []
  }
 ],
 "metadata": {
  "kernelspec": {
   "display_name": "Python 2",
   "language": "python",
   "name": "python2"
  },
  "language_info": {
   "codemirror_mode": {
    "name": "ipython",
    "version": 2
   },
   "file_extension": ".py",
   "mimetype": "text/x-python",
   "name": "python",
   "nbconvert_exporter": "python",
   "pygments_lexer": "ipython2",
   "version": "2.7.13"
  }
 },
 "nbformat": 4,
 "nbformat_minor": 2
}
